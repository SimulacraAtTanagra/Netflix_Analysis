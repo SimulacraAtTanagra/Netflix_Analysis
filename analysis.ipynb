{
  "cells": [
    {
      "cell_type": "code",
      "metadata": {},
      "source": [
        "# -*- coding: utf-8 -*-\n",
        "\"\"\"\n",
        "Created on Sat May 16 15:14:25 2020\n",
        "\n",
        "@author: shane\n",
        "\"\"\""
      ],
      "outputs": [],
      "execution_count": null
    },
    {
      "cell_type": "code",
      "metadata": {},
      "source": [
        "import pandas as pd\n",
        "import os\n",
        "from src.simmonssummary1 import simmonscleaner as sc\n",
        "from src.simmonssummary1 import grouping as gp\n",
        "from src.simmonssummary1 import summaryfunc as sf\n",
        "from src.movierankscraper import dfranked\n",
        "from src.graphing import consolidate as con\n",
        "from src.graphing import displayer as disp"
      ],
      "outputs": [],
      "execution_count": null
    },
    {
      "cell_type": "code",
      "metadata": {},
      "source": [
        "cwd=os.getcwd()\n",
        "#sorting through the simmons data\n",
        "simmons = pd.read_excel(f'{cwd}\\\\data\\\\SimmonsResearch-OneView.xlsx')\n",
        "simmons =sc(simmons)"
      ],
      "outputs": [],
      "execution_count": null
    },
    {
      "cell_type": "code",
      "metadata": {},
      "source": [
        "#taking a look at a profile of a user for one of the several brands in the dataset\n",
        "sf(simmons,gp(simmons)[0])"
      ],
      "outputs": [],
      "execution_count": null
    },
    {
      "cell_type": "code",
      "metadata": {},
      "source": [
        "#generating ranking data by looking at netflix's catalog listings in imdb\n",
        "rankings = pd.read_csv(f'{cwd}\\\\data\\\\netflix_titles.csv')\n",
        "rankings=dfranked(rankings)"
      ],
      "outputs": [],
      "execution_count": null
    },
    {
      "cell_type": "code",
      "metadata": {},
      "source": [
        "#analyzing and displaying summary data about genre composition and imdb ratings\n",
        "#though we generated ranking data in a df, it already exists in a file\n",
        "import src.display"
      ],
      "outputs": [],
      "execution_count": null
    },
    {
      "cell_type": "code",
      "metadata": {},
      "source": [
        "#Showing story curves for the material we havein transcripts\n",
        "disp(con(\"Tiger-King\"),\"Tiger King Sentiment\")"
      ],
      "outputs": [],
      "execution_count": null
    },
    {
      "cell_type": "code",
      "metadata": {},
      "source": [
        "disp(con(\"BIRD BOX\"),\"Bird Box Sentiment\")"
      ],
      "outputs": [],
      "execution_count": null
    },
    {
      "cell_type": "code",
      "metadata": {},
      "source": [
        "disp(con(\"Awakens\"),\"Star Wars: The Force Awakens Sentiment\")"
      ],
      "outputs": [],
      "execution_count": null
    }
  ],
  "metadata": {
    "anaconda-cloud": {},
    "kernelspec": {
      "display_name": "Python 3",
      "language": "python",
      "name": "python3"
    },
    "language_info": {
      "codemirror_mode": {
        "name": "ipython",
        "version": 3
      },
      "file_extension": ".py",
      "mimetype": "text/x-python",
      "name": "python",
      "nbconvert_exporter": "python",
      "pygments_lexer": "ipython3",
      "version": "3.6.1"
    }
  },
  "nbformat": 4,
  "nbformat_minor": 1
}